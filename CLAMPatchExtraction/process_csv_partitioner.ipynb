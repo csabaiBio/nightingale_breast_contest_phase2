{
 "cells": [
  {
   "attachments": {},
   "cell_type": "markdown",
   "id": "39db1030",
   "metadata": {},
   "source": [
    "Breast cancer stage prediction from pathological whole slide images with hierarchical image pyramid transformers.\n",
    "Project developed under the \"High Risk Breast Cancer Prediction Contest Phase 2\" \n",
    "by Nightingale, Association for Health Learning & Inference (AHLI)\n",
    "and Providence St. Joseph Health\n",
    "\n",
    "Copyright (C) 2023 Zsolt Bedohazi, Andras Biricz, Istvan Csabai"
   ]
  },
  {
   "cell_type": "code",
   "execution_count": null,
   "id": "e3f49013-3d2a-410d-af31-cca2a2741e9e",
   "metadata": {},
   "outputs": [],
   "source": [
    "import numpy as np\n",
    "import pandas as pd"
   ]
  },
  {
   "cell_type": "code",
   "execution_count": null,
   "id": "ba7d68fb-13ce-420f-bc6f-0119c1e72e5f",
   "metadata": {},
   "outputs": [],
   "source": [
    "df = pd.read_csv('process_csv_all_to_partition.txt')\n",
    "df.shape"
   ]
  },
  {
   "attachments": {},
   "cell_type": "markdown",
   "id": "e654c640-3ef3-4628-a7f9-75077dc68678",
   "metadata": {},
   "source": [
    "### Run in interval"
   ]
  },
  {
   "cell_type": "code",
   "execution_count": null,
   "id": "05245f75-6067-4db5-8d95-1a5eb951fa64",
   "metadata": {},
   "outputs": [],
   "source": [
    "df.iloc[:2000].to_csv( f'process_for_rerun_clean.csv', index=False)"
   ]
  },
  {
   "attachments": {},
   "cell_type": "markdown",
   "id": "a9c6f13a-68b8-4ab7-a1e2-ba8a3c6aa2b1",
   "metadata": {},
   "source": [
    "### Run for test multithread processing"
   ]
  },
  {
   "cell_type": "code",
   "execution_count": null,
   "id": "f570e330-050e-4493-9371-0ad0ad48085a",
   "metadata": {},
   "outputs": [],
   "source": [
    "for n in range(10,20):\n",
    "    df[n*100:(n+1)*100].to_csv( f'process_csv_edited_{n}.csv', index=False)"
   ]
  },
  {
   "cell_type": "code",
   "execution_count": null,
   "id": "b423a29c-9209-4697-b001-488e3adfc0b5",
   "metadata": {},
   "outputs": [],
   "source": [
    "df.loc[201:201].to_csv( f'process_for_testing_only.csv', index=False)"
   ]
  },
  {
   "attachments": {},
   "cell_type": "markdown",
   "id": "1b1f9bf3-4e80-49cf-8d37-989d0c73762a",
   "metadata": {},
   "source": [
    "### Run for whole partition"
   ]
  },
  {
   "cell_type": "code",
   "execution_count": null,
   "id": "d0396073-41ca-4fc0-8b90-4eca383793c6",
   "metadata": {},
   "outputs": [],
   "source": [
    "bound_idxs = np.append(np.arange(0, df.shape[0], df.shape[0]//15)[:-1], df.shape[0])\n",
    "bound_idxs"
   ]
  },
  {
   "cell_type": "code",
   "execution_count": null,
   "id": "e31bc504-897c-41bd-a09d-20f9b8c9c511",
   "metadata": {},
   "outputs": [],
   "source": [
    "thread_idxs = np.vstack( (bound_idxs[:-1], bound_idxs[1:]) ).T\n",
    "thread_idxs"
   ]
  },
  {
   "attachments": {},
   "cell_type": "markdown",
   "id": "5fff6feb-b094-4c7d-8332-c985c6971fe2",
   "metadata": {},
   "source": [
    "### Run from the first N. samples"
   ]
  },
  {
   "cell_type": "code",
   "execution_count": null,
   "id": "72f4a54a-7b8c-438c-8977-503ccad82f41",
   "metadata": {},
   "outputs": [],
   "source": [
    "N = 2000"
   ]
  },
  {
   "cell_type": "code",
   "execution_count": null,
   "id": "fd3f6c2e-f910-4eef-bc8d-a5926e738dc2",
   "metadata": {},
   "outputs": [],
   "source": [
    "bound_idxs = np.append(np.arange(N, df.shape[0], df.shape[0]//15)[:-1], df.shape[0])\n",
    "thread_idxs = np.vstack( (bound_idxs[:-1], bound_idxs[1:]) ).T\n",
    "thread_idxs"
   ]
  },
  {
   "cell_type": "code",
   "execution_count": null,
   "id": "7d6575a4-ba5d-48d1-8cac-3f6d504bf09a",
   "metadata": {},
   "outputs": [],
   "source": [
    "for n in range( thread_idxs.shape[0] ):\n",
    "    df[ thread_idxs[n][0]:thread_idxs[n][1] ].to_csv( f'process_csv_edited_{n}.csv', index=False)"
   ]
  },
  {
   "attachments": {},
   "cell_type": "markdown",
   "id": "6b361163-50dd-49e4-9e28-70703c5c756d",
   "metadata": {},
   "source": [
    "### Holdout"
   ]
  },
  {
   "cell_type": "code",
   "execution_count": null,
   "id": "f1d5dc2b-4e09-4cb8-a218-eb2b0d47c5ce",
   "metadata": {},
   "outputs": [],
   "source": [
    "df = pd.read_csv('process_csv_holdout.txt')\n",
    "df.shape"
   ]
  },
  {
   "cell_type": "code",
   "execution_count": null,
   "id": "7f4212fc-4ac3-468e-b31a-f152a0f90732",
   "metadata": {},
   "outputs": [],
   "source": [
    "N = 0\n",
    "bound_idxs = np.append(np.arange(N, df.shape[0], df.shape[0]//14)[:-1], df.shape[0])\n",
    "thread_idxs = np.vstack( (bound_idxs[:-1], bound_idxs[1:]) ).T\n",
    "thread_idxs"
   ]
  },
  {
   "cell_type": "code",
   "execution_count": null,
   "id": "c308cb3d-e5a9-454f-b245-6b2de4c6a45d",
   "metadata": {},
   "outputs": [],
   "source": [
    "for n in range( thread_idxs.shape[0] ):\n",
    "    df[ thread_idxs[n][0]:thread_idxs[n][1] ].to_csv( f'process_csv_edited_holdout_{n}.csv', index=False)"
   ]
  },
  {
   "cell_type": "code",
   "execution_count": null,
   "id": "8120b954-43e3-4fcb-b137-03f956ca01af",
   "metadata": {},
   "outputs": [],
   "source": []
  },
  {
   "cell_type": "code",
   "execution_count": null,
   "id": "5f01e58d-62ae-49ee-8592-7db2ea91b6e6",
   "metadata": {},
   "outputs": [],
   "source": []
  }
 ],
 "metadata": {
  "kernelspec": {
   "display_name": "Python 3.8.8 ('base')",
   "language": "python",
   "name": "python3"
  },
  "language_info": {
   "codemirror_mode": {
    "name": "ipython",
    "version": 3
   },
   "file_extension": ".py",
   "mimetype": "text/x-python",
   "name": "python",
   "nbconvert_exporter": "python",
   "pygments_lexer": "ipython3",
   "version": "3.8.8"
  },
  "vscode": {
   "interpreter": {
    "hash": "e244f69d12f14f842eba482c16e5aadaedc716c5f259416fefc0a6e445229e62"
   }
  }
 },
 "nbformat": 4,
 "nbformat_minor": 5
}
