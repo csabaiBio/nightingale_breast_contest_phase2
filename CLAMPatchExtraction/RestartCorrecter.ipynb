{
 "cells": [
  {
   "attachments": {},
   "cell_type": "markdown",
   "id": "804bf750",
   "metadata": {},
   "source": [
    "Breast cancer stage prediction from pathological whole slide images with hierarchical image pyramid transformers.\n",
    "Project developed under the \"High Risk Breast Cancer Prediction Contest Phase 2\" \n",
    "by Nightingale, Association for Health Learning & Inference (AHLI)\n",
    "and Providence St. Joseph Health\n",
    "\n",
    "Copyright (C) 2023 Zsolt Bedohazi, Andras Biricz, Istvan Csabai"
   ]
  },
  {
   "cell_type": "code",
   "execution_count": null,
   "id": "44665c8d-cc36-4406-85f9-e78f666b006c",
   "metadata": {},
   "outputs": [],
   "source": [
    "import argparse\n",
    "import glob\n",
    "import os\n",
    "import random\n",
    "from importlib.resources import path\n",
    "import cv2\n",
    "import matplotlib.pyplot as plt\n",
    "import numpy as np\n",
    "import tifffile\n",
    "from openslide import OpenSlide\n",
    "import PIL.Image\n",
    "import pandas as pd"
   ]
  },
  {
   "cell_type": "code",
   "execution_count": null,
   "id": "f19a4b47-e0b8-4a44-a63b-b4fa87fe18ef",
   "metadata": {},
   "outputs": [],
   "source": [
    "parent_folder = 'clam_data_dir_level1/holdout/'"
   ]
  },
  {
   "cell_type": "code",
   "execution_count": null,
   "id": "a4b29fc1-82bf-4d56-a5c5-b5f98e22c34f",
   "metadata": {},
   "outputs": [],
   "source": [
    "stitches = np.array( sorted( [ i for i in os.listdir(parent_folder+'stitches/') if 'png' in i] ) )\n",
    "stitches.shape"
   ]
  },
  {
   "cell_type": "code",
   "execution_count": null,
   "id": "b36854d3-0ad6-451a-babc-aed504aa5cec",
   "metadata": {},
   "outputs": [],
   "source": [
    "masks = np.array( sorted( [ i for i in os.listdir(parent_folder+'masks/') if 'png' in i] ) )\n",
    "masks.shape"
   ]
  },
  {
   "cell_type": "code",
   "execution_count": null,
   "id": "e6b0fb57-2618-451b-87b5-6a549954b7fa",
   "metadata": {},
   "outputs": [],
   "source": [
    "patches = np.array( sorted( [ i.replace('h5', 'png') for i in os.listdir(parent_folder+'patches/') if 'h5' in i] ) )\n",
    "patches.shape"
   ]
  },
  {
   "cell_type": "code",
   "execution_count": null,
   "id": "c4684277-625f-4311-9e9f-fdd0ac80ac51",
   "metadata": {},
   "outputs": [],
   "source": [
    "to_delete = masks[ ~np.in1d(masks, stitches) ]\n",
    "to_delete.shape"
   ]
  },
  {
   "cell_type": "code",
   "execution_count": null,
   "id": "06dc9dcc-a1fe-4250-b35a-f6f58d8bec85",
   "metadata": {},
   "outputs": [],
   "source": [
    "np.savetxt( 'remove_corrupted_masks.sh', [ f'rm clam_data_dir_level1/holdout/masks/{j}' for j in to_delete ], fmt='%s' )"
   ]
  },
  {
   "cell_type": "code",
   "execution_count": null,
   "id": "f7fa7641-0671-43d8-8ce4-ae983e15e030",
   "metadata": {},
   "outputs": [],
   "source": [
    "to_delete = patches[ ~np.in1d(patches, stitches) ]\n",
    "to_delete = np.array( [ k.replace('png', 'h5') for k in to_delete] )\n",
    "to_delete.shape"
   ]
  },
  {
   "cell_type": "code",
   "execution_count": null,
   "id": "da320d3f-7192-46e3-a3b2-ce1a08748e3c",
   "metadata": {},
   "outputs": [],
   "source": [
    "np.savetxt( 'remove_corrupted_patches.sh', [ f'rm clam_data_dir_level1/holdout/patches/{j}' for j in to_delete ], fmt='%s' )"
   ]
  },
  {
   "attachments": {},
   "cell_type": "markdown",
   "id": "d819b66f-1425-4732-b529-eb6b04d143c2",
   "metadata": {},
   "source": [
    "### Clean corrupted holdout files"
   ]
  },
  {
   "cell_type": "code",
   "execution_count": null,
   "id": "b72e7868-9ecd-4fbc-a631-e64548daeb43",
   "metadata": {},
   "outputs": [],
   "source": [
    "ndpi_holdout = np.array( sorted( [ i for i in os.listdir('/home/ngsci/datasets/brca-psj-path/ndpi-holdout/') if 'ndpi' in i] ) )\n",
    "ndpi_holdout.shape"
   ]
  },
  {
   "cell_type": "code",
   "execution_count": null,
   "id": "a62ab290-2cd5-46fb-84ff-4af033ba7388",
   "metadata": {},
   "outputs": [],
   "source": [
    "ndpi_holdout"
   ]
  },
  {
   "cell_type": "code",
   "execution_count": null,
   "id": "2c49a975-2d6a-4b16-9534-000e3fc57662",
   "metadata": {},
   "outputs": [],
   "source": [
    "holdout_df = pd.read_csv( '/home/ngsci/20230220_corupted_holdout_files.txt', delimiter='\\t', names=['du', 'files'])\n",
    "holdout_df.head()"
   ]
  },
  {
   "cell_type": "code",
   "execution_count": null,
   "id": "8dbfa206-8e42-422c-9f07-b72c719f2e1c",
   "metadata": {},
   "outputs": [],
   "source": [
    "corrupted_files = holdout_df[ holdout_df.du == '512' ].files.values\n",
    "corrupted_files.shape, corrupted_files[:5]"
   ]
  },
  {
   "cell_type": "code",
   "execution_count": null,
   "id": "3063788d-1b3e-4e99-8daf-3d3186e6dd4c",
   "metadata": {},
   "outputs": [],
   "source": [
    "np.in1d( corrupted_files, '0093f0ae-bdbb-4a46-904c-14855c668857.ndpi').sum()"
   ]
  },
  {
   "cell_type": "code",
   "execution_count": null,
   "id": "1779808e-3f17-4877-9880-d58030685e56",
   "metadata": {},
   "outputs": [],
   "source": [
    "to_check = corrupted_files[2]\n",
    "#!openslide-show-properties  /home/ngsci/datasets/brca-psj-path/ndpi-holdout/$to_check\n",
    "!du -sh /home/ngsci/datasets/brca-psj-path/ndpi-holdout/$to_check"
   ]
  },
  {
   "cell_type": "code",
   "execution_count": null,
   "id": "7936b282-07d7-479b-a656-b1f5ea4e8bd9",
   "metadata": {
    "tags": []
   },
   "outputs": [],
   "source": [
    "to_check = corrupted_files[3]\n",
    "#!openslide-show-properties  /home/ngsci/datasets/brca-psj-path/ndpi-holdout/$to_check\n",
    "!du -sh /home/ngsci/datasets/brca-psj-path/ndpi-holdout/$to_check"
   ]
  },
  {
   "cell_type": "code",
   "execution_count": null,
   "id": "18860109-ee23-49bc-8a69-9f22f880b9b7",
   "metadata": {},
   "outputs": [],
   "source": [
    "!openslide-show-properties  /home/ngsci/datasets/brca-psj-path/ndpi-holdout/$to_check"
   ]
  },
  {
   "cell_type": "code",
   "execution_count": null,
   "id": "d077283c-dd75-409d-8846-6900d5f8956a",
   "metadata": {},
   "outputs": [],
   "source": []
  },
  {
   "cell_type": "code",
   "execution_count": null,
   "id": "4a023de8-a8c8-40f6-a0a1-0a3cd75e83fb",
   "metadata": {},
   "outputs": [],
   "source": []
  },
  {
   "cell_type": "code",
   "execution_count": null,
   "id": "4922be0f-688c-443b-abbc-1f718be0151c",
   "metadata": {},
   "outputs": [],
   "source": [
    "corrupted_files_masks = np.array([ o.replace('ndpi', 'png') for o in ndpi_holdout ])\n",
    "corrupted_files_masks"
   ]
  },
  {
   "cell_type": "code",
   "execution_count": null,
   "id": "7947649c-590e-496e-ae09-1d31f7fb43c1",
   "metadata": {},
   "outputs": [],
   "source": [
    "corrupted_files_patches = np.array([ o.replace('ndpi', 'h5') for o in ndpi_holdout ])\n",
    "corrupted_files_patches"
   ]
  },
  {
   "cell_type": "code",
   "execution_count": null,
   "id": "81fc3cbe-b181-4c0d-9c96-28c13d43aea2",
   "metadata": {},
   "outputs": [],
   "source": [
    "corrupted_files_stitches = np.array([ o.replace('ndpi', 'png') for o in ndpi_holdout])\n",
    "corrupted_files_stitches"
   ]
  },
  {
   "cell_type": "code",
   "execution_count": null,
   "id": "f5de0458-f46e-4c05-b2bd-33405ec941bf",
   "metadata": {},
   "outputs": [],
   "source": [
    "np.savetxt( 'remove_corrupted_masks.sh', [ f'rm clam_data_dir_level1/masks/{j}' for j in corrupted_files_masks ], fmt='%s' )"
   ]
  },
  {
   "cell_type": "code",
   "execution_count": null,
   "id": "2fe086da-c40d-4ff5-8b52-1cde00f84ede",
   "metadata": {},
   "outputs": [],
   "source": [
    "np.savetxt( 'remove_corrupted_patches.sh', [ f'rm clam_data_dir_level1/patches/{j}' for j in corrupted_files_patches ], fmt='%s' )"
   ]
  },
  {
   "cell_type": "code",
   "execution_count": null,
   "id": "1f5c1541-ad04-4ecc-b28e-0ba8e25757b8",
   "metadata": {},
   "outputs": [],
   "source": [
    "np.savetxt( 'remove_corrupted_stitches.sh', [ f'rm clam_data_dir_level1/stitches/{j}' for j in corrupted_files_stitches ], fmt='%s' )"
   ]
  },
  {
   "cell_type": "code",
   "execution_count": null,
   "id": "e5f0a77c-9cde-4e6f-a49f-fd6b1bd9471e",
   "metadata": {},
   "outputs": [],
   "source": [
    "!ls ~ | grep cor"
   ]
  },
  {
   "cell_type": "code",
   "execution_count": null,
   "id": "91ac608d-e36c-4ea2-9dfc-58320a728e91",
   "metadata": {},
   "outputs": [],
   "source": []
  }
 ],
 "metadata": {
  "kernelspec": {
   "display_name": "Python 3.8.8 ('base')",
   "language": "python",
   "name": "python3"
  },
  "language_info": {
   "codemirror_mode": {
    "name": "ipython",
    "version": 3
   },
   "file_extension": ".py",
   "mimetype": "text/x-python",
   "name": "python",
   "nbconvert_exporter": "python",
   "pygments_lexer": "ipython3",
   "version": "3.8.8"
  },
  "vscode": {
   "interpreter": {
    "hash": "e244f69d12f14f842eba482c16e5aadaedc716c5f259416fefc0a6e445229e62"
   }
  }
 },
 "nbformat": 4,
 "nbformat_minor": 5
}
