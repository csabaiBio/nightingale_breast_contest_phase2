{
 "cells": [
  {
   "attachments": {},
   "cell_type": "markdown",
   "id": "324c7b6b",
   "metadata": {},
   "source": [
    "Breast cancer stage prediction from pathological whole slide images with hierarchical image pyramid transformers.\n",
    "Project developed under the \"High Risk Breast Cancer Prediction Contest Phase 2\" \n",
    "by Nightingale, Association for Health Learning & Inference (AHLI)\n",
    "and Providence St. Joseph Health\n",
    "\n",
    "Copyright (C) 2023 Zsolt Bedohazi, Andras Biricz, Istvan Csabai"
   ]
  },
  {
   "cell_type": "code",
   "execution_count": null,
   "id": "006bea50",
   "metadata": {},
   "outputs": [],
   "source": [
    "import numpy as np\n",
    "#from geojson import GeoJSON\n",
    "import json\n",
    "import os\n",
    "import glob\n",
    "#import shapely\n",
    "#from rtree import index\n",
    "#from shapely.ops import cascaded_union, unary_union\n",
    "from collections import Counter\n",
    "import matplotlib.pyplot as plt\n",
    "import h5py\n",
    "from tqdm import tqdm\n",
    "from PIL import Image\n",
    "\n",
    "import sys\n",
    "\n",
    "#from hipt_4k import HIPT_4K\n",
    "#from hipt_model_utils import get_vit256, get_vit4k, eval_transforms\n",
    "#from hipt_heatmap_utils import *"
   ]
  },
  {
   "cell_type": "raw",
   "id": "9ae6fff8-6b65-40e0-9932-9a0039499362",
   "metadata": {
    "tags": []
   },
   "source": [
    "# this needs to be installed again and again after starting a new machine\n",
    "!pip install shapely rtree webdataset einops "
   ]
  },
  {
   "attachments": {},
   "cell_type": "markdown",
   "id": "78b32ae8",
   "metadata": {},
   "source": [
    "### Locate data"
   ]
  },
  {
   "cell_type": "code",
   "execution_count": null,
   "id": "e888e7bf",
   "metadata": {},
   "outputs": [],
   "source": [
    "#parent_folder = '../../clam_dev/clam_data_dir_level1/train/'\n",
    "#parent_folder = '/home/ngsci/train/'\n",
    "#source = '/home/ngsci/datasets/brca-psj-path/contest-phase-2/clam-preprocessing-holdout/resnet50-features/h5_files/'\n",
    "source = '/home/ngsci/clam_level1_tiles_vit_16-256_finetuned_embeddings_holdout/'"
   ]
  },
  {
   "cell_type": "code",
   "execution_count": null,
   "id": "e5b43481",
   "metadata": {},
   "outputs": [],
   "source": [
    "slide_fp = os.path.join(source, f'*.h5')\n",
    "files = np.array( sorted( glob.glob(slide_fp) ) )\n",
    "files.shape, files[:3]"
   ]
  },
  {
   "cell_type": "code",
   "execution_count": null,
   "id": "73cffe68-1d9e-424c-b22c-cbff4925d681",
   "metadata": {},
   "outputs": [],
   "source": [
    "idxs = np.append( np.arange(0, files.shape[0], files.shape[0]//64), files.shape[0] )\n",
    "idxs = np.vstack( (idxs[:-1], idxs[1:]) ).T\n",
    "idxs.shape"
   ]
  },
  {
   "cell_type": "code",
   "execution_count": null,
   "id": "f52ee323-10ea-4251-a629-f24ec9342931",
   "metadata": {},
   "outputs": [],
   "source": [
    "destination = '/home/ngsci/vitsmall_embeddings_4096region_256times384_level1_file_splits_holdout/'"
   ]
  },
  {
   "cell_type": "code",
   "execution_count": null,
   "id": "aad652ae-c62a-41fc-a935-448345d35a58",
   "metadata": {},
   "outputs": [],
   "source": [
    "os.makedirs(destination, exist_ok=True)"
   ]
  },
  {
   "cell_type": "code",
   "execution_count": null,
   "id": "ebf3d270-d4d6-4992-990b-601d265a0fcb",
   "metadata": {},
   "outputs": [],
   "source": [
    "!ls $destination | wc -l"
   ]
  },
  {
   "cell_type": "code",
   "execution_count": null,
   "id": "7a778537-0510-4798-953c-44a56ca45518",
   "metadata": {},
   "outputs": [],
   "source": [
    "for l in range(idxs.shape[0]):\n",
    "    files_to_process_thread = files[ idxs[l,0]:idxs[l,1] ]\n",
    "    np.savetxt( destination+f'files_to_process_thread_{l}', files_to_process_thread, fmt='%s' ) "
   ]
  },
  {
   "cell_type": "code",
   "execution_count": null,
   "id": "879b0ed7-75bf-413a-911f-9560faeb9f64",
   "metadata": {},
   "outputs": [],
   "source": [
    "!ls $destination | wc -l"
   ]
  },
  {
   "cell_type": "code",
   "execution_count": null,
   "id": "3e4ec461-d115-4f2a-b6e6-a4bf791140dc",
   "metadata": {},
   "outputs": [],
   "source": [
    "scripts = np.array( [ f'nohup python3 generate_256times384_embeddings_vit.py  --thread_num {k}  > logs_level1/log_vit_holdout_thread_{k}.txt &' for k in range(idxs.shape[0]) ] )\n",
    "np.savetxt(f'scripts_to_run_generate_256times384_embeddings_vit256-16_level1_on_{idxs.shape[0]}_threads_holdout', scripts, fmt='%s')"
   ]
  },
  {
   "cell_type": "code",
   "execution_count": null,
   "id": "b2864001-c72c-4727-a5c5-1c49e9b76cf4",
   "metadata": {},
   "outputs": [],
   "source": []
  },
  {
   "attachments": {},
   "cell_type": "markdown",
   "id": "e271d605-7a60-4d52-b099-11dca5dd14a9",
   "metadata": {},
   "source": [
    "### Correct - run here only if runnings are dead and pre-generated filesplits and scripts are deleted "
   ]
  },
  {
   "cell_type": "code",
   "execution_count": null,
   "id": "8edf7cdf-e7fb-4bfd-9308-859b55a2e3a6",
   "metadata": {},
   "outputs": [],
   "source": [
    "#source_done = '/home/ngsci/project/resnet50_embeddings_4096region_256times1024_level0/'\n",
    "source_done = '/home/ngsci/resnet50_embeddings_4096region_256times1024_level1/'\n",
    "slide_fp_done = os.path.join(source_done, f'*.npy')\n",
    "files_done = np.array( sorted( glob.glob(slide_fp_done) ))\n",
    "files_done.shape, files_done[:3]"
   ]
  },
  {
   "cell_type": "code",
   "execution_count": null,
   "id": "1a821cf0-6727-47b0-a430-d4ea65abfa72",
   "metadata": {},
   "outputs": [],
   "source": [
    "files_done_splitted = np.array([ k.split('/')[-1].split('.npy')[0] for k in files_done ])\n",
    "files_done_splitted.shape, files_done_splitted[:3]"
   ]
  },
  {
   "cell_type": "code",
   "execution_count": null,
   "id": "88179dc2-ee73-4b16-9230-a4c7a8d0efaf",
   "metadata": {},
   "outputs": [],
   "source": [
    "files_splitted = np.array([ k.split('/')[-1].split('.h5')[0] for k in files ])\n",
    "files_splitted.shape, files_splitted[:3]"
   ]
  },
  {
   "cell_type": "code",
   "execution_count": null,
   "id": "405039cb-1487-4ce6-9487-3bb6867022a7",
   "metadata": {},
   "outputs": [],
   "source": [
    "files_to_num = dict( zip( files_splitted, np.arange(files_splitted.shape[0]) ) )"
   ]
  },
  {
   "cell_type": "code",
   "execution_count": null,
   "id": "dafeca4d-9473-47a3-8a17-9380043de01a",
   "metadata": {},
   "outputs": [],
   "source": [
    "files_idx_already_running = np.array( [ files_to_num[p] for p in files_done_splitted ])\n",
    "files_idx_already_running"
   ]
  },
  {
   "cell_type": "code",
   "execution_count": null,
   "id": "5c484b70-41c7-4494-b94a-f160530539d2",
   "metadata": {},
   "outputs": [],
   "source": [
    "files_idx_already_running.shape"
   ]
  },
  {
   "cell_type": "code",
   "execution_count": null,
   "id": "1146879c-3751-4183-a3c2-b3a1f4f9ca31",
   "metadata": {},
   "outputs": [],
   "source": [
    "files_to_process = files[ ~np.in1d( np.arange(files_splitted.shape[0]), files_idx_already_running ) ]\n",
    "files_to_process.shape"
   ]
  },
  {
   "cell_type": "code",
   "execution_count": null,
   "id": "ad295510-b83d-49fc-9591-69992cc62093",
   "metadata": {},
   "outputs": [],
   "source": [
    "idxs = np.append( np.arange(0, files_to_process.shape[0], files_to_process.shape[0]//64), files_to_process.shape[0] )\n",
    "idxs = np.vstack( (idxs[:-1], idxs[1:]) ).T\n",
    "idxs.shape"
   ]
  },
  {
   "cell_type": "code",
   "execution_count": null,
   "id": "67c3e97e-6e3f-4fc8-a065-fe229b67d2e5",
   "metadata": {},
   "outputs": [],
   "source": [
    "idxs.flatten().max(), files_to_process.shape[0]"
   ]
  },
  {
   "cell_type": "raw",
   "id": "20f2d608-7143-4c9a-b491-defe8b7272b6",
   "metadata": {},
   "source": [
    "idxs_corr = np.append( np.arange(idxs.flatten().max(), files.shape[0], (files.shape[0]-idxs.flatten().max())//7), files.shape[0] )\n",
    "idxs_corr = np.vstack( (idxs_corr[:-1], idxs_corr[1:]) ).T\n",
    "idxs_corr.shape"
   ]
  },
  {
   "cell_type": "code",
   "execution_count": null,
   "id": "c139485d-eaba-4914-b409-ed1cd479bdb9",
   "metadata": {},
   "outputs": [],
   "source": [
    "destination = '/home/ngsci/resnet50_embeddings_for_4k_regions_file_splits_restart_holdout/'"
   ]
  },
  {
   "cell_type": "code",
   "execution_count": null,
   "id": "583645c2-bf72-4fed-ad91-769741d5882f",
   "metadata": {},
   "outputs": [],
   "source": [
    "os.makedirs(destination, exist_ok=True)"
   ]
  },
  {
   "cell_type": "code",
   "execution_count": null,
   "id": "ddc5c74f-7f9b-4445-ac8a-f5f333a0c4ae",
   "metadata": {},
   "outputs": [],
   "source": [
    "for l in range(idxs.shape[0]):\n",
    "    files_to_process_thread = files_to_process[ idxs[l,0]:idxs[l,1] ]\n",
    "    np.savetxt( destination+f'files_to_process_thread_{l}', files_to_process_thread, fmt='%s' ) "
   ]
  },
  {
   "cell_type": "code",
   "execution_count": null,
   "id": "e310eb53-ec07-4667-85f4-371743df13cf",
   "metadata": {},
   "outputs": [],
   "source": [
    "!ls $destination"
   ]
  },
  {
   "cell_type": "code",
   "execution_count": null,
   "id": "f57708cf-2717-4481-9879-b0cf7cf4f140",
   "metadata": {},
   "outputs": [],
   "source": []
  },
  {
   "attachments": {},
   "cell_type": "markdown",
   "id": "d7650ebc-7f58-432d-becc-eec74d751aae",
   "metadata": {
    "tags": []
   },
   "source": [
    "### Running scripts"
   ]
  },
  {
   "cell_type": "raw",
   "id": "c26e0b5f-10af-4e53-9e5c-1eff08f94970",
   "metadata": {},
   "source": [
    "python3 generate_256times1024_embeddings_resnet50_level0.py  --thread_num 0"
   ]
  },
  {
   "attachments": {},
   "cell_type": "markdown",
   "id": "745e5be0-4b23-4eb4-a7cb-0cdc36344b9e",
   "metadata": {},
   "source": [
    "#### original"
   ]
  },
  {
   "cell_type": "code",
   "execution_count": null,
   "id": "914f2dd4-7bcb-4ad3-86a9-141cd5f1ab47",
   "metadata": {},
   "outputs": [],
   "source": [
    "scripts = np.array( [ f'nohup python3 generate_256times1024_embeddings_resnet50_level0.py  --thread_num {k}  > logs_holdout/log_thread_{k}.txt &' for k in range(idxs.shape[0]) ] )\n",
    "np.savetxt(f'scripts_to_run_generate_256times1024_embeddings_resnet50_level0_on_{idxs.shape[0]}_threads_holdout', scripts, fmt='%s')"
   ]
  },
  {
   "attachments": {},
   "cell_type": "markdown",
   "id": "e42f5978-10cd-43ea-96a6-bbf194880222",
   "metadata": {},
   "source": [
    "#### corr"
   ]
  },
  {
   "cell_type": "raw",
   "id": "7191f8f7-400d-4954-9029-2ea766a7c0eb",
   "metadata": {},
   "source": [
    "scripts = np.array( [ f'nohup python3 generate_256times1024_embeddings_resnet50_level0.py  --thread_num {k}  > logs_corr/log_thread_{k}.txt &' for k in range(idxs_corr.shape[0]) ] )\n",
    "np.savetxt(f'scripts_to_run_generate_256times1024_embeddings_resnet50_level0_on_{idxs_corr.shape[0]}_threads', scripts, fmt='%s')"
   ]
  },
  {
   "attachments": {},
   "cell_type": "markdown",
   "id": "3c83dd31-b97d-446e-a0d4-92661b5c3099",
   "metadata": {
    "tags": []
   },
   "source": [
    "### Restart where left"
   ]
  },
  {
   "cell_type": "code",
   "execution_count": null,
   "id": "d53b9ea3-176d-4019-9fa0-55665c3cb7ea",
   "metadata": {},
   "outputs": [],
   "source": [
    "scripts = np.array( [ f'nohup python3 generate_256times1024_embeddings_resnet50_level0.py  --thread_num {k}  > logs_restart_holdout/log_thread_{k}.txt &' for k in range(idxs.shape[0]) ] )\n",
    "np.savetxt(f'scripts_to_run_generate_256times1024_embeddings_resnet50_level0_on_{idxs.shape[0]}_threads', scripts, fmt='%s')"
   ]
  },
  {
   "cell_type": "code",
   "execution_count": null,
   "id": "80a924ee-9ff9-4b91-84ef-d9f45f1f4f82",
   "metadata": {},
   "outputs": [],
   "source": []
  },
  {
   "cell_type": "code",
   "execution_count": null,
   "id": "e4258c0a-dde1-46e9-b203-09a1fbdb6a76",
   "metadata": {},
   "outputs": [],
   "source": []
  },
  {
   "cell_type": "code",
   "execution_count": null,
   "id": "8ab96a0f-81a7-4352-9410-e98fa00186cc",
   "metadata": {},
   "outputs": [],
   "source": []
  },
  {
   "attachments": {},
   "cell_type": "markdown",
   "id": "32f8327e-edd3-4757-933b-5cb5f8ac014f",
   "metadata": {},
   "source": [
    "### EXTRA"
   ]
  },
  {
   "cell_type": "code",
   "execution_count": null,
   "id": "2fba3a1b-b2c5-4b2a-9636-ee57436dc2c9",
   "metadata": {
    "tags": []
   },
   "outputs": [],
   "source": [
    "idxs = np.append( np.arange(0, files.shape[0], files.shape[0]//16), files.shape[0] )\n",
    "idxs = np.vstack( (idxs[:-1], idxs[1:]) ).T\n",
    "idxs.shape, #idxs[:5]"
   ]
  },
  {
   "cell_type": "code",
   "execution_count": null,
   "id": "4983dbe8-6fef-453f-8b6e-e082c4530127",
   "metadata": {},
   "outputs": [],
   "source": [
    "scripts = np.array( [ f'nohup clam_vit256_embedder.py   --source   /home/ngsci/clam_level1_tiles_holdout/  --dest_dir   /home/ngsci/clam_level1_tiles_vit_16-256_finetuned_embeddings_holdout/  --start_idx {idxs[k,0]}  --end_idx  {idxs[k,1]}  > logs_vit_training_holdout/log_thread_{k}.txt &' for k in range(idxs.shape[0]) ] )\n",
    "np.savetxt(f'scripts_to_run_generate_256times384_embeddings_vit_finetuned_level1_on_{idxs.shape[0]}_threads_holdout', scripts, fmt='%s')"
   ]
  },
  {
   "cell_type": "code",
   "execution_count": null,
   "id": "7e96838b-03cf-48a3-a4cf-79b71d07028f",
   "metadata": {},
   "outputs": [],
   "source": []
  },
  {
   "cell_type": "code",
   "execution_count": null,
   "id": "8a0460f0-a223-459a-bdee-cc40b0eafc00",
   "metadata": {},
   "outputs": [],
   "source": []
  },
  {
   "attachments": {},
   "cell_type": "markdown",
   "id": "87b5c33d-ab41-41d2-8b9b-177668825899",
   "metadata": {},
   "source": [
    "### SOME CHECKS"
   ]
  },
  {
   "cell_type": "code",
   "execution_count": null,
   "id": "d6328d48-b96d-44a9-8227-4a76e0961902",
   "metadata": {},
   "outputs": [],
   "source": [
    "folder = '/home/ngsci/vitsmall_embeddings_4096region_256times384_level1/'\n",
    "#folder = '/home/ngsci/resnet50_embeddings_4096region_256times1024_level1/'"
   ]
  },
  {
   "cell_type": "code",
   "execution_count": null,
   "id": "59334ff8-8f94-47e3-96c6-4b57f90b99b9",
   "metadata": {},
   "outputs": [],
   "source": [
    "os.listdir(folder)[:5]"
   ]
  },
  {
   "cell_type": "code",
   "execution_count": null,
   "id": "bcfab5a9-8d18-4666-a420-c75c8d07efff",
   "metadata": {},
   "outputs": [],
   "source": [
    "def load_h5_file(filename):\n",
    "    with h5py.File(filename, \"r\") as f:\n",
    "        coords = f['coords'][()]\n",
    "        features = f['features_4k'][()]\n",
    "    return coords, features"
   ]
  },
  {
   "cell_type": "code",
   "execution_count": null,
   "id": "88bbeeb2-00fd-43af-92b7-899851eda840",
   "metadata": {},
   "outputs": [],
   "source": [
    "coords, features = load_h5_file(folder+'0000459a-838d-4865-8bbf-ea66f2e5ee4d.h5')\n",
    "coords.shape, features.shape"
   ]
  },
  {
   "cell_type": "code",
   "execution_count": null,
   "id": "d3dab48b-be41-4160-a2d1-25268b5fb7a3",
   "metadata": {},
   "outputs": [],
   "source": [
    "features.mean(), features.min(), features.max()"
   ]
  },
  {
   "cell_type": "code",
   "execution_count": null,
   "id": "5bc06f9b-d0a7-44dd-ac97-55bddb1a8978",
   "metadata": {},
   "outputs": [],
   "source": [
    "plt.pcolormesh( features[0] )"
   ]
  },
  {
   "cell_type": "code",
   "execution_count": null,
   "id": "c2df836a-33df-4d91-9bf9-3fe5a277a4ce",
   "metadata": {},
   "outputs": [],
   "source": [
    "plt.pcolormesh( features[10] )"
   ]
  },
  {
   "cell_type": "code",
   "execution_count": null,
   "id": "c3d14c9b-9b57-4b16-b81e-933ec15a2754",
   "metadata": {},
   "outputs": [],
   "source": [
    "features.min(), features.max(), features.mean()"
   ]
  },
  {
   "cell_type": "code",
   "execution_count": null,
   "id": "e05b6af2-1fde-4615-8ad2-fec57c612284",
   "metadata": {},
   "outputs": [],
   "source": []
  }
 ],
 "metadata": {
  "kernelspec": {
   "display_name": "Python 3.8.8 ('base')",
   "language": "python",
   "name": "python3"
  },
  "language_info": {
   "codemirror_mode": {
    "name": "ipython",
    "version": 3
   },
   "file_extension": ".py",
   "mimetype": "text/x-python",
   "name": "python",
   "nbconvert_exporter": "python",
   "pygments_lexer": "ipython3",
   "version": "3.8.8"
  },
  "vscode": {
   "interpreter": {
    "hash": "e244f69d12f14f842eba482c16e5aadaedc716c5f259416fefc0a6e445229e62"
   }
  }
 },
 "nbformat": 4,
 "nbformat_minor": 5
}
