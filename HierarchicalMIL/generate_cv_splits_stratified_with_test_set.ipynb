{
 "cells": [
  {
   "cell_type": "markdown",
   "id": "f3758e77",
   "metadata": {},
   "source": [
    "Breast cancer stage prediction from pathological whole slide images with hierarchical image pyramid transformers.\n",
    "Project developed under the \"High Risk Breast Cancer Prediction Contest Phase 2\" \n",
    "by Nightingale, Association for Health Learning & Inference (AHLI)\n",
    "and Providence St. Joseph Health\n",
    "\n",
    "Copyright (C) 2023 Zsolt Bedohazi, Andras Biricz, Istvan Csabai"
   ]
  },
  {
   "cell_type": "code",
   "execution_count": null,
   "id": "f5691e4f-a5c0-41a6-85d0-f41ac01389ad",
   "metadata": {},
   "outputs": [],
   "source": [
    "import pandas as pd\n",
    "import numpy as np\n",
    "from tqdm import tqdm\n",
    "import os\n",
    "import matplotlib.pyplot as plt\n",
    "from collections import Counter\n",
    "from sklearn.model_selection import KFold\n",
    "from sklearn.model_selection import StratifiedKFold\n",
    "import random"
   ]
  },
  {
   "cell_type": "code",
   "execution_count": null,
   "id": "5c0dc36e-9557-4148-8fcb-d5649cf0fb46",
   "metadata": {},
   "outputs": [],
   "source": [
    "# 10846 slides - train\n",
    "# 14466 slides - holdout "
   ]
  },
  {
   "cell_type": "markdown",
   "id": "70634361-b121-4993-ae18-97a0811ed5f7",
   "metadata": {},
   "source": [
    "### get biopsy_df for the training data "
   ]
  },
  {
   "cell_type": "code",
   "execution_count": null,
   "id": "e612031e-07b8-4d8b-8446-cf57bf91f284",
   "metadata": {},
   "outputs": [],
   "source": [
    "# goal: create slide_id : cancer stage mapping\n",
    "slide_biop_df = pd.read_csv(\n",
    "    \"/home/ngsci/datasets/brca-psj-path/contest-phase-2/slide-manifest-train.csv\"\n",
    ")\n",
    "outcomes_df = pd.read_csv(\"/home/ngsci/datasets/brca-psj-path/contest-phase-2/csv-train/outcomes.csv\")\n",
    "slide_stage_df = slide_biop_df.merge(outcomes_df, on=\"biopsy_id\")\n",
    "\n",
    "# map cancer stage to 0 - 4:\n",
    "# outcomes_df[\"stage\"].unique()\n",
    "#     ['IA', 'IIB', 'IIA', '0', nan, 'IIIC', 'IV', 'IIIA', 'IIIB', 'IB']\n",
    "def stage_to_int(stage):\n",
    "    if stage == \"0\":\n",
    "        return 0\n",
    "    elif stage == \"IA\" or stage == \"IB\":\n",
    "        return 1\n",
    "    elif stage == \"IIA\" or stage == \"IIB\":\n",
    "        return 2\n",
    "    elif stage == \"IIIA\" or stage == \"IIIB\" or stage == \"IIIC\":\n",
    "        return 3\n",
    "    elif stage == \"IV\":\n",
    "        return 4\n",
    "    else:\n",
    "        return np.nan\n",
    "\n",
    "\n",
    "slide_stage_df[\"stage\"] = slide_stage_df[\"stage\"].apply(stage_to_int)\n",
    "\n",
    "# subset columns, drop nans, reset index\n",
    "labels_df = (\n",
    "    slide_stage_df[[\"slide_id\", \"biopsy_id\", \"stage\"]]\n",
    "    .copy()\n",
    "    .dropna(how=\"any\")\n",
    "    .reset_index(drop=True)\n",
    ")\n",
    "labels_df[\"stage\"] = labels_df[\"stage\"].astype(int)\n",
    "\n",
    "sort_idx = np.argsort( labels_df.slide_id.values )\n",
    "labels_df = labels_df.loc[sort_idx]\n",
    "labels_df.reset_index(inplace=True, drop=True)\n",
    "\n",
    "labels_df.head(5)"
   ]
  },
  {
   "cell_type": "code",
   "execution_count": null,
   "id": "c1ca1e19-464d-4897-9de0-20964b201617",
   "metadata": {},
   "outputs": [],
   "source": [
    "labels_df.shape"
   ]
  },
  {
   "cell_type": "code",
   "execution_count": null,
   "id": "4455f604-c63c-4576-a629-c657c082f9e0",
   "metadata": {},
   "outputs": [],
   "source": [
    "biopsy_df = labels_df.groupby([\"biopsy_id\"], sort=False).agg({'stage': lambda x: x.tolist()[0]}).reset_index()\n",
    "biopsy_df.head()"
   ]
  },
  {
   "cell_type": "code",
   "execution_count": null,
   "id": "c7a8358a-373a-4c19-8913-783214511a23",
   "metadata": {},
   "outputs": [],
   "source": [
    "biopsy_df.shape"
   ]
  },
  {
   "cell_type": "code",
   "execution_count": null,
   "id": "d396aa28-7f42-487e-8d0c-30d3f305b101",
   "metadata": {},
   "outputs": [],
   "source": [
    "Counter(biopsy_df['stage'])"
   ]
  },
  {
   "cell_type": "code",
   "execution_count": null,
   "id": "dd8e954e-6eea-4cac-a1ac-c7e3c26979d7",
   "metadata": {},
   "outputs": [],
   "source": [
    "plt.hist(biopsy_df['stage'])"
   ]
  },
  {
   "cell_type": "markdown",
   "id": "0f5dba90-3a38-4b0c-9462-36cc9fc941a8",
   "metadata": {},
   "source": [
    "### Generate local test set (10%)"
   ]
  },
  {
   "cell_type": "code",
   "execution_count": null,
   "id": "0f79bd7e-8fbf-44ac-8bff-653980499ae1",
   "metadata": {},
   "outputs": [],
   "source": [
    "n_splits = 8\n",
    "\n",
    "skf = StratifiedKFold(n_splits=n_splits, shuffle=True, random_state=87)"
   ]
  },
  {
   "cell_type": "code",
   "execution_count": null,
   "id": "5c0df417-86f0-475d-ad82-0e162a8a0fc1",
   "metadata": {},
   "outputs": [],
   "source": [
    "data_idx = biopsy_df.index.values\n",
    "\n",
    "train_splits = []\n",
    "val_splits = []\n",
    "\n",
    "for train_idx, val_idx in skf.split(data_idx, biopsy_df.iloc[data_idx]['stage']):\n",
    "    \n",
    "    train_splits.append(train_idx)\n",
    "    val_splits.append(val_idx)\n",
    "    \n",
    "    break"
   ]
  },
  {
   "cell_type": "code",
   "execution_count": null,
   "id": "c0bf7d4b-77e4-471f-b8a3-b5a5d7283158",
   "metadata": {},
   "outputs": [],
   "source": [
    "len(train_splits[0]), len(val_splits[0])"
   ]
  },
  {
   "cell_type": "code",
   "execution_count": null,
   "id": "c7b51ff9-928c-4933-a993-1ae30aeeb8b4",
   "metadata": {},
   "outputs": [],
   "source": [
    "print(np.unique(biopsy_df.iloc[val_splits[0]]['stage'], return_counts=True))"
   ]
  },
  {
   "cell_type": "code",
   "execution_count": null,
   "id": "ceca8899-ef9c-4c73-8de5-666d3e476e73",
   "metadata": {},
   "outputs": [],
   "source": [
    "val_splits[0]"
   ]
  },
  {
   "cell_type": "code",
   "execution_count": null,
   "id": "27d10dab-8876-4a16-b9a6-004d472386e7",
   "metadata": {},
   "outputs": [],
   "source": [
    "biopsy_df_test = biopsy_df.iloc[val_splits[0]]\n",
    "biopsy_df_test"
   ]
  },
  {
   "cell_type": "markdown",
   "id": "9bf098b4-6615-4701-b95d-f87ba40c7da6",
   "metadata": {},
   "source": [
    "### save test set"
   ]
  },
  {
   "cell_type": "code",
   "execution_count": null,
   "id": "1f90df79-8632-43f8-a6a9-d265ceb16271",
   "metadata": {},
   "outputs": [],
   "source": [
    "\n",
    "save_dir = 'cv_splits_stratified_with_test_set_10fold/'\n",
    "os.makedirs(save_dir, exist_ok=True)\n",
    "\n",
    "biopsy_df_test.to_csv(f'{save_dir}test_split_stratified.csv', index=False)"
   ]
  },
  {
   "cell_type": "code",
   "execution_count": null,
   "id": "b26afbba-74a2-41b7-b82f-ead7f6847610",
   "metadata": {},
   "outputs": [],
   "source": []
  },
  {
   "cell_type": "code",
   "execution_count": null,
   "id": "09fc78f1-53fe-43dd-9fab-45b9fa55a935",
   "metadata": {},
   "outputs": [],
   "source": []
  },
  {
   "cell_type": "markdown",
   "id": "b9d45711-bc34-4dff-9ec0-7e99f66f6a17",
   "metadata": {},
   "source": [
    "### Generate cv split indices - stratified"
   ]
  },
  {
   "cell_type": "code",
   "execution_count": null,
   "id": "cd3d3a3f-8270-425f-bf58-6d7b2421b2d3",
   "metadata": {},
   "outputs": [],
   "source": [
    "biopsy_df.iloc[ ~np.in1d(biopsy_df.index.values, val_splits[0]) ]"
   ]
  },
  {
   "cell_type": "code",
   "execution_count": null,
   "id": "ab99cc50-8ee0-45fe-88ad-a07c02deb952",
   "metadata": {},
   "outputs": [],
   "source": [
    "biopsy_df_rest = biopsy_df.iloc[ ~np.in1d(biopsy_df.index.values, val_splits[0]) ].reset_index(drop=True)"
   ]
  },
  {
   "cell_type": "code",
   "execution_count": null,
   "id": "ba8c1d6a-60d7-40fc-adec-e5d3181c42f5",
   "metadata": {},
   "outputs": [],
   "source": [
    "biopsy_df_rest"
   ]
  },
  {
   "cell_type": "code",
   "execution_count": null,
   "id": "8e742873-0707-4d8a-9891-44341e2db1bb",
   "metadata": {},
   "outputs": [],
   "source": [
    "n_splits = 10"
   ]
  },
  {
   "cell_type": "code",
   "execution_count": null,
   "id": "84373662-ae4a-45f9-be93-538d8bb94c04",
   "metadata": {},
   "outputs": [],
   "source": [
    "skf = StratifiedKFold(n_splits=n_splits, shuffle=True, random_state=87)"
   ]
  },
  {
   "cell_type": "code",
   "execution_count": null,
   "id": "ef873cd6-4c5e-41b0-a94a-a38da079c9f1",
   "metadata": {},
   "outputs": [],
   "source": [
    "skf"
   ]
  },
  {
   "cell_type": "code",
   "execution_count": null,
   "id": "29c03293-1c32-4025-a0a4-99d6d3e4998b",
   "metadata": {},
   "outputs": [],
   "source": [
    "data_idx = biopsy_df_rest.index.values\n",
    "\n",
    "train_splits = []\n",
    "val_splits = []\n",
    "\n",
    "for train_idx, val_idx in skf.split(data_idx, biopsy_df_rest.iloc[data_idx]['stage']):\n",
    "    \n",
    "    train_splits.append(train_idx)\n",
    "    val_splits.append(val_idx)"
   ]
  },
  {
   "cell_type": "code",
   "execution_count": null,
   "id": "f3424550-f66e-456c-bc2d-2972ff3af87b",
   "metadata": {},
   "outputs": [],
   "source": [
    "len(train_splits[0]), len(val_splits[0])"
   ]
  },
  {
   "cell_type": "code",
   "execution_count": null,
   "id": "ce36257a-f481-4927-983e-a70ad48269dd",
   "metadata": {},
   "outputs": [],
   "source": [
    "for i in range(n_splits):\n",
    "    print(np.unique(biopsy_df_rest.iloc[train_splits[i]]['stage'], return_counts=True))"
   ]
  },
  {
   "cell_type": "code",
   "execution_count": null,
   "id": "b4a5505a-7175-4797-84d2-8a888e920cff",
   "metadata": {},
   "outputs": [],
   "source": [
    "144/800, 312/800, 160/800, 136/800, 48/800"
   ]
  },
  {
   "cell_type": "code",
   "execution_count": null,
   "id": "54b8d012-6610-46ca-8e5c-33cc0125bea1",
   "metadata": {},
   "outputs": [],
   "source": [
    "for i in range(n_splits):\n",
    "    print(np.unique(biopsy_df_rest.iloc[val_splits[i]]['stage'], return_counts=True))"
   ]
  },
  {
   "cell_type": "code",
   "execution_count": null,
   "id": "8b0bcc4b-4cd3-4f86-aa3d-ffa444e77b65",
   "metadata": {},
   "outputs": [],
   "source": [
    "36/200, 78/200, 40/200, 34/200, 12/200"
   ]
  },
  {
   "cell_type": "code",
   "execution_count": null,
   "id": "14c9337f-64e9-4b21-9bba-812c43de1265",
   "metadata": {},
   "outputs": [],
   "source": [
    "plt.hist(biopsy_df_rest.iloc[train_splits[0]]['stage'])"
   ]
  },
  {
   "cell_type": "code",
   "execution_count": null,
   "id": "b5989555-a752-42f2-af8b-e3ead1407da2",
   "metadata": {},
   "outputs": [],
   "source": [
    "# check if there is any overlap in the val sets\n",
    "for i in range(n_splits-1):\n",
    "    print(list(set(val_splits[0]) & set(val_splits[i+1])))"
   ]
  },
  {
   "cell_type": "markdown",
   "id": "456e69a5-cbfe-47e3-8d06-827bed3691e9",
   "metadata": {},
   "source": [
    "### save train and val splits - stratified"
   ]
  },
  {
   "cell_type": "code",
   "execution_count": null,
   "id": "e8419c8e-cdc5-494d-9a6f-67fdafc367fa",
   "metadata": {},
   "outputs": [],
   "source": [
    "save_dir = 'cv_splits_stratified_with_test_set_10fold/'\n",
    "os.makedirs(save_dir, exist_ok=True)\n",
    "\n",
    "for s in range(n_splits):\n",
    "    # save train set\n",
    "    biopsy_df_rest.iloc[train_splits[s]].to_csv(f'{save_dir}train_split_stratified_{s}.csv', index=False)\n",
    "    \n",
    "    # save val set\n",
    "    biopsy_df_rest.iloc[val_splits[s]].to_csv(f'{save_dir}val_split_stratified_{s}.csv', index=False)"
   ]
  },
  {
   "cell_type": "code",
   "execution_count": null,
   "id": "99983323-5b62-4f4c-b6a2-c6972021bd42",
   "metadata": {},
   "outputs": [],
   "source": []
  }
 ],
 "metadata": {
  "kernelspec": {
   "display_name": "Python 3.8.8 ('base')",
   "language": "python",
   "name": "python3"
  },
  "language_info": {
   "codemirror_mode": {
    "name": "ipython",
    "version": 3
   },
   "file_extension": ".py",
   "mimetype": "text/x-python",
   "name": "python",
   "nbconvert_exporter": "python",
   "pygments_lexer": "ipython3",
   "version": "3.8.8"
  },
  "vscode": {
   "interpreter": {
    "hash": "e244f69d12f14f842eba482c16e5aadaedc716c5f259416fefc0a6e445229e62"
   }
  }
 },
 "nbformat": 4,
 "nbformat_minor": 5
}
